{
 "cells": [
  {
   "cell_type": "markdown",
   "id": "72c42091",
   "metadata": {},
   "source": [
    "# Installing Natural PDF\n",
    "\n",
    "There are a LOT of possible extras (a lot of them AI-flavored) inside of Natural PDF, but we'll start by just installing the basics. You use `\"natural_pdf[all]\"` if you want *everything*."
   ]
  },
  {
   "cell_type": "code",
   "execution_count": null,
   "id": "074b692d",
   "metadata": {},
   "outputs": [],
   "source": [
    "!pip install --upgrade --quiet \"natural_pdf\""
   ]
  },
  {
   "cell_type": "markdown",
   "id": "a4c2ec7d",
   "metadata": {},
   "source": [
    "# Opening a PDF\n",
    "\n",
    "**We'll start by opening a PDF.**\n",
    "\n",
    "You can use a PDF on your own computer, or you can use one from a URL. I'll start by using one from a URL to make everything a bit easier."
   ]
  },
  {
   "cell_type": "code",
   "execution_count": null,
   "id": "b6300e96-3217-4bff-83fa-0aec2e1e36c7",
   "metadata": {},
   "outputs": [],
   "source": [
    "import natural_pdf as npdf\n",
    "npdf.options.image.width = 500\n",
    "\n",
    "pdf = npdf.PDF(\"https://github.com/jsoma/ire25-natural-pdf/raw/refs/heads/main/practice.pdf\")\n",
    "pdf"
   ]
  },
  {
   "cell_type": "markdown",
   "id": "2854f592-832f-4e5d-aeea-80a0b07c9a62",
   "metadata": {},
   "source": [
    "You can find the pages of the pdf under `pdf.pages`, let's grab the first one."
   ]
  },
  {
   "cell_type": "code",
   "execution_count": null,
   "id": "fc34e5a4",
   "metadata": {},
   "outputs": [],
   "source": [
    "page = pdf.pages[0]\n",
    "page"
   ]
  },
  {
   "cell_type": "markdown",
   "id": "49540a71",
   "metadata": {},
   "source": [
    "Pretty boring so far, eh? Let's take a look at the page itself."
   ]
  },
  {
   "cell_type": "code",
   "execution_count": null,
   "id": "e09afe4a",
   "metadata": {},
   "outputs": [],
   "source": [
    "page.show()"
   ]
  },
  {
   "cell_type": "markdown",
   "id": "0a38490c",
   "metadata": {},
   "source": [
    "Incredible!!! Congratulations, you've opened your first PDF with Natural PDF."
   ]
  },
  {
   "cell_type": "markdown",
   "id": "1901b50a-2f1a-4159-ba8c-a33e961e6962",
   "metadata": {},
   "source": [
    "# Grabbing page text\n",
    "\n",
    "Most of the time when we're working with PDFs you're interested in the text on the page."
   ]
  },
  {
   "cell_type": "code",
   "execution_count": null,
   "id": "6cf0f60d",
   "metadata": {},
   "outputs": [],
   "source": [
    "# text = page.extract_text()\n",
    "text = page.extract_text(layout=True)\n",
    "# text\n",
    "print(text)"
   ]
  },
  {
   "cell_type": "markdown",
   "id": "c5789933-cc8e-48dc-b920-d350eb6de36b",
   "metadata": {},
   "source": [
    "`layout=True` is a useful addition if you want to see a text-only representation of the page, and sometimes it helps with data extraction."
   ]
  },
  {
   "cell_type": "markdown",
   "id": "9e778e00-be08-4b4c-9e89-d710e0a4ddad",
   "metadata": {},
   "source": [
    "# Selecting elements and grabbing specific text\n",
    "\n",
    "You rarely want all of the text, though. How would you describe the **INS-UP70N51NCL41R** text?\n",
    "\n",
    "- It's in a box\n",
    "- It's the second text on a page\n",
    "- It's red\n",
    "- It starts with \"INS\""
   ]
  },
  {
   "cell_type": "markdown",
   "id": "95b6dffe-c59f-4380-812f-5d9c613adc06",
   "metadata": {},
   "source": [
    "## Selecting objects: \"It's in the box\""
   ]
  },
  {
   "cell_type": "code",
   "execution_count": null,
   "id": "8a4982ee-57b6-4d27-934c-29317c7d5eb0",
   "metadata": {},
   "outputs": [],
   "source": [
    "# page.find('rect')\n",
    "# page.find('rect').show()\n",
    "page.find('rect').show(crop=True)"
   ]
  },
  {
   "cell_type": "code",
   "execution_count": null,
   "id": "f422af2f-9af5-42a3-8c78-9e78e0880249",
   "metadata": {},
   "outputs": [],
   "source": [
    "text = page.find('rect').extract_text()\n",
    "print(text)"
   ]
  },
  {
   "cell_type": "markdown",
   "id": "376a5f36",
   "metadata": {},
   "source": [
    "### Selecting multiple objects: \"It's the second piece of text\""
   ]
  },
  {
   "cell_type": "code",
   "execution_count": null,
   "id": "635370d4-4c32-4d90-bde4-d8c4571944ac",
   "metadata": {},
   "outputs": [],
   "source": [
    "page.find_all('text').show()"
   ]
  },
  {
   "cell_type": "code",
   "execution_count": null,
   "id": "f83d60f1-3b12-4e40-bc4b-58de4680f9bb",
   "metadata": {},
   "outputs": [],
   "source": [
    "texts = page.find_all('text').extract_each_text()\n",
    "\n",
    "texts[:5]"
   ]
  },
  {
   "cell_type": "code",
   "execution_count": null,
   "id": "4cb19b8f-3e71-4af1-aade-a7da1f4fe3b5",
   "metadata": {},
   "outputs": [],
   "source": [
    "texts[1]"
   ]
  },
  {
   "cell_type": "markdown",
   "id": "ea2bd97e-e46c-45ed-8205-eaca9bb0a56b",
   "metadata": {},
   "source": [
    "### Finding by attributes: \"It's the red text\""
   ]
  },
  {
   "cell_type": "code",
   "execution_count": null,
   "id": "d6b03925-9967-4b8b-8c56-b1343332e603",
   "metadata": {},
   "outputs": [],
   "source": [
    "red_text = page.find('text[color~=red]')\n",
    "red_text.show(crop=True)"
   ]
  },
  {
   "cell_type": "code",
   "execution_count": null,
   "id": "3ac00f71-9703-4344-aab2-4de7c2881560",
   "metadata": {},
   "outputs": [],
   "source": [
    "red_text.extract_text()"
   ]
  },
  {
   "cell_type": "markdown",
   "id": "151325c7",
   "metadata": {},
   "source": [
    "## Searching by text: \"It starts with INS-\""
   ]
  },
  {
   "cell_type": "code",
   "execution_count": null,
   "id": "07546bf9-5131-44cc-8e22-4d8c0e19b7f6",
   "metadata": {},
   "outputs": [],
   "source": [
    "text = page.find('text:contains(\"INS-\")')\n",
    "# text = page.find('text:starts-with(\"INS-\")')\n",
    "text.show(crop=True)"
   ]
  },
  {
   "cell_type": "code",
   "execution_count": null,
   "id": "4bc5c367",
   "metadata": {},
   "outputs": [],
   "source": [
    "text.extract_text()"
   ]
  },
  {
   "cell_type": "markdown",
   "id": "21a3e643-5e7a-47da-bda7-e9a985037396",
   "metadata": {},
   "source": [
    "What about \"Chicago, Ill.\"? It's grey, so..."
   ]
  },
  {
   "cell_type": "code",
   "execution_count": null,
   "id": "e770d276-ddc0-4efd-bad5-074a6e81cf79",
   "metadata": {},
   "outputs": [],
   "source": [
    "page.find(\"text[color~=grey]\")"
   ]
  },
  {
   "cell_type": "markdown",
   "id": "384bd480-a3fc-4497-9187-2ac82f932846",
   "metadata": {},
   "source": [
    "Nothing!!! If we want some more details, we can inspect all of the text."
   ]
  },
  {
   "cell_type": "markdown",
   "id": "b6a9105c",
   "metadata": {},
   "source": [
    "# Learning about the page\n",
    "\n",
    "How do we know what's on the page? `page.describe()` can help!"
   ]
  },
  {
   "cell_type": "code",
   "execution_count": null,
   "id": "e78c9dcd",
   "metadata": {},
   "outputs": [],
   "source": [
    "page.describe()"
   ]
  },
  {
   "cell_type": "markdown",
   "id": "599b73cf",
   "metadata": {},
   "source": []
  },
  {
   "cell_type": "code",
   "execution_count": null,
   "id": "25b19d95",
   "metadata": {},
   "outputs": [],
   "source": [
    "page.find_all('text').inspect()"
   ]
  },
  {
   "cell_type": "code",
   "execution_count": null,
   "id": "e011263a",
   "metadata": {},
   "outputs": [],
   "source": [
    "page.find_all('text[size<10][font_family=Helvetica]').show()"
   ]
  },
  {
   "cell_type": "markdown",
   "id": "e972abb2",
   "metadata": {},
   "source": [
    "## Spatial navigation\n",
    "\n",
    "What else is on the page that we can extract? How about the **date?** We want to find **Date:** and grab everything to the right of it."
   ]
  },
  {
   "cell_type": "code",
   "execution_count": null,
   "id": "f162f87a",
   "metadata": {},
   "outputs": [],
   "source": [
    "# page.find(text=\"Date\").show()\n",
    "page.find(text=\"Date\").right(height='element').extract_text()"
   ]
  },
  {
   "cell_type": "markdown",
   "id": "e1a524e7-1bc7-42ed-aaba-e7095af051b5",
   "metadata": {},
   "source": [
    "And the **site?** We want to grab 'site', then keep going right until we see a piece of text."
   ]
  },
  {
   "cell_type": "code",
   "execution_count": null,
   "id": "30e9ade7",
   "metadata": {},
   "outputs": [],
   "source": [
    "site = (\n",
    "    page\n",
    "    .find(text=\"Site\")\n",
    "    .right(height='element',\n",
    "           until='text')\n",
    "    .expand(right=-10)\n",
    ")\n",
    "# site.show(crop=True)\n",
    "site.extract_text()"
   ]
  },
  {
   "cell_type": "markdown",
   "id": "6147baec-2838-4775-acbd-b01c101a1c55",
   "metadata": {},
   "source": [
    "How about **Violation Count?**"
   ]
  },
  {
   "cell_type": "code",
   "execution_count": null,
   "id": "0ee45202",
   "metadata": {},
   "outputs": [],
   "source": [
    "page.find(text=\"Violation Count\").right(height='element').extract_text()"
   ]
  },
  {
   "cell_type": "markdown",
   "id": "0914d590-c986-47df-8002-9feb37011b31",
   "metadata": {},
   "source": [
    "The **Summary** is a little bit more difficult. How would you describe where it is?"
   ]
  },
  {
   "cell_type": "code",
   "execution_count": null,
   "id": "57b4fdad",
   "metadata": {},
   "outputs": [],
   "source": [
    "page.find(text=\"Summary\").right(height='element').extract_text()"
   ]
  },
  {
   "cell_type": "code",
   "execution_count": null,
   "id": "6d621874",
   "metadata": {},
   "outputs": [],
   "source": [
    "summary = (\n",
    "    page\n",
    "    .find(text=\"Summary\")\n",
    "    .below(include_source=True, until='line')\n",
    ")\n",
    "summary.show()\n",
    "summary.extract_text()"
   ]
  },
  {
   "cell_type": "markdown",
   "id": "3e6948eb-fdc2-4b66-a78c-6e7822f2062d",
   "metadata": {},
   "source": [
    "## Grabbing tables\n",
    "\n",
    "Everyone loves extracting tables from PDFs! You can do that here: just do `page.extract_table()`. Easy!!!"
   ]
  },
  {
   "cell_type": "code",
   "execution_count": null,
   "id": "b61abb63",
   "metadata": {},
   "outputs": [],
   "source": [
    "table = page.extract_table()\n",
    "table"
   ]
  },
  {
   "cell_type": "code",
   "execution_count": null,
   "id": "21e1e863",
   "metadata": {},
   "outputs": [],
   "source": [
    "import pandas as pd\n",
    "\n",
    "columns = table[0]\n",
    "rows = table[1:]\n",
    "\n",
    "df = pd.DataFrame(rows, columns=columns)\n",
    "df"
   ]
  },
  {
   "cell_type": "markdown",
   "id": "b500d376-cdff-4b58-abc8-dc40b8f35251",
   "metadata": {},
   "source": [
    "What about a page with **multiple tables?**\n",
    "\n",
    "In most PDF processing libraries you just say, \"give me all of the tables!\" and then figure out which one you want. In Natural PDF, the _proper_ way to do it is find the area you know the table is in and extract it alone. "
   ]
  },
  {
   "cell_type": "code",
   "execution_count": null,
   "id": "f639c2a3-524a-47d0-8ff5-e4283e2076b1",
   "metadata": {},
   "outputs": [],
   "source": [
    "page.find('text[size>10]:bold:contains(\"Violations\")').below(\n",
    "    until='text:contains(Jungle Health)',\n",
    "    include_endpoint=False\n",
    ").show(crop=True)"
   ]
  },
  {
   "cell_type": "code",
   "execution_count": null,
   "id": "b498dc62",
   "metadata": {},
   "outputs": [],
   "source": [
    "page.find('text[size>10]:bold:contains(\"Violations\")').below(\n",
    "    until='text:contains(Jungle Health)',\n",
    "    include_endpoint=False\n",
    ").extract_table()"
   ]
  },
  {
   "cell_type": "markdown",
   "id": "b262c29a-3523-4955-a149-bb2acbda3329",
   "metadata": {},
   "source": [
    "# Ignoring text with exclusion zones"
   ]
  },
  {
   "cell_type": "markdown",
   "id": "c435c192-5702-4364-ab35-2a99289c121a",
   "metadata": {},
   "source": [
    "What if we have like two hundred of these forms, and they all look the same, and all we want is the top, text-y part?\n",
    "\n",
    "Instead of writing code about what we *want*, we can also write code about what we *don't want*. These are called [**exclusion zones**](https://jsoma.github.io/natural-pdf/tutorials/05-excluding-content/)."
   ]
  },
  {
   "cell_type": "code",
   "execution_count": null,
   "id": "e906879a-1d5a-45e7-a022-a8e79e9afc32",
   "metadata": {},
   "outputs": [],
   "source": [
    "import natural_pdf as npdf\n",
    "npdf.options.image.width = 500\n",
    "\n",
    "pdf = npdf.PDF(\"https://github.com/jsoma/ire25-natural-pdf/raw/refs/heads/main/practice.pdf\")\n",
    "page = pdf.pages[0]"
   ]
  },
  {
   "cell_type": "code",
   "execution_count": null,
   "id": "1c04bfd1-af9e-4732-8dc6-408a72580f5f",
   "metadata": {},
   "outputs": [],
   "source": [
    "text = page.extract_text()\n",
    "print(text)"
   ]
  },
  {
   "cell_type": "code",
   "execution_count": null,
   "id": "ead0598e-3ad3-41cb-919f-8e26cb534028",
   "metadata": {},
   "outputs": [],
   "source": [
    "top = page.region(top=0, left=0, height=80)\n",
    "bottom = page.find(\"line[width>=2]\").below()"
   ]
  },
  {
   "cell_type": "code",
   "execution_count": null,
   "id": "75760287-366a-45b7-b303-fe53a44bd8a2",
   "metadata": {},
   "outputs": [],
   "source": [
    "page.add_exclusion(top)\n",
    "page.add_exclusion(bottom)\n",
    "\n",
    "page.to_image(exclusions='red')"
   ]
  },
  {
   "cell_type": "code",
   "execution_count": null,
   "id": "90cc5865-318d-4900-a286-b7efef7c674e",
   "metadata": {},
   "outputs": [],
   "source": [
    "text = page.extract_text()\n",
    "print(text)"
   ]
  },
  {
   "cell_type": "markdown",
   "id": "cff6da64-735b-475f-8ca6-98755888b995",
   "metadata": {},
   "source": [
    "Any time there is recurring text - headers, footers, even *stamps on the page you want to ignore*, you can just add them as an exclusion. \n",
    "\n",
    "It's also possible to add exclusions across *multiple pages*. In the example below, every time you load a new page up it applies the PDF-level exclusion on it. Write it once, be done with it forever!"
   ]
  },
  {
   "cell_type": "code",
   "execution_count": null,
   "id": "0a4f71e8-45d9-4d5e-805a-dfcbd8eadbc1",
   "metadata": {},
   "outputs": [],
   "source": [
    "pdf.add_exclusion(lambda page: page.region(top=0, left=0, height=80))\n",
    "pdf.add_exclusion(lambda page: page.find(\"line[width>=2]\").below())"
   ]
  },
  {
   "cell_type": "markdown",
   "id": "c6c1d96f-0415-41dc-86f9-0bf842231b20",
   "metadata": {},
   "source": [
    "## Next steps\n",
    "\n",
    "What about **when the text isn't so easy to access?** Time to move on to our next notebook!"
   ]
  }
 ],
 "metadata": {
  "kernelspec": {
   "display_name": "Python (natural-pdf project venv)",
   "language": "python",
   "name": "natural-pdf-project-venv"
  },
  "language_info": {
   "codemirror_mode": {
    "name": "ipython",
    "version": 3
   },
   "file_extension": ".py",
   "mimetype": "text/x-python",
   "name": "python",
   "nbconvert_exporter": "python",
   "pygments_lexer": "ipython3",
   "version": "3.11.11"
  }
 },
 "nbformat": 4,
 "nbformat_minor": 5
}
