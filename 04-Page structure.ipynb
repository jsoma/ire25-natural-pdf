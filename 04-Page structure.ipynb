{
 "cells": [
  {
   "cell_type": "code",
   "execution_count": null,
   "id": "18ceba93",
   "metadata": {},
   "outputs": [],
   "source": [
    "!pip install \"natural-pdf[ai]\""
   ]
  },
  {
   "cell_type": "markdown",
   "id": "083f0389-864d-438e-a92a-e75a57e9b515",
   "metadata": {},
   "source": [
    "# Multi-page flows\n",
    "\n",
    "*Sometimes* you have data that flows over multiple columns, or pages, or just... isn't arranged in a \"normal\" top-to-bottom way."
   ]
  },
  {
   "cell_type": "code",
   "execution_count": null,
   "id": "1e4d1f9f",
   "metadata": {},
   "outputs": [],
   "source": [
    "from natural_pdf import PDF\n",
    "\n",
    "pdf = PDF(\"https://github.com/jsoma/ire25-natural-pdf/raw/refs/heads/main/multicolumn.pdf\")\n",
    "page = pdf.pages[0]\n",
    "page.show()"
   ]
  },
  {
   "cell_type": "markdown",
   "id": "f7d9ebd2-e9bc-4209-bd15-e0d071b994c2",
   "metadata": {},
   "source": [
    "Natural PDF deals with these through [reflowing pages](https://jsoma.github.io/natural-pdf/reflowing-pages/), where you grab specific regions of a page and then paste them back together either vertically or horizontally.\n",
    "\n",
    "In this example we're splitting the page into three columns."
   ]
  },
  {
   "cell_type": "code",
   "execution_count": null,
   "id": "47e87098",
   "metadata": {},
   "outputs": [],
   "source": [
    "left = page.region(left=0, right=page.width/3, top=0, bottom=page.height)\n",
    "mid = page.region(left=page.width/3, right=page.width/3*2, top=0, bottom=page.height)\n",
    "right = page.region(left=page.width/3*2, right=page.width, top=0, bottom=page.height)\n",
    "mid.show()"
   ]
  },
  {
   "cell_type": "markdown",
   "id": "463dcf12-1d15-441a-94ec-b01a9cf7a1f0",
   "metadata": {},
   "source": [
    "Now let's **stack them on top of each other**."
   ]
  },
  {
   "cell_type": "code",
   "execution_count": null,
   "id": "8757142f",
   "metadata": {},
   "outputs": [],
   "source": [
    "from natural_pdf.flows import Flow\n",
    "\n",
    "stacked = [left, mid, right]\n",
    "flow = Flow(segments=stacked, arrangement=\"vertical\")"
   ]
  },
  {
   "cell_type": "markdown",
   "id": "cfe252cc-c95b-4230-bea6-6001d613db0a",
   "metadata": {},
   "source": [
    "Now any time we want to use spatial comparisons, like \"find something below this,\" it *just works*."
   ]
  },
  {
   "cell_type": "code",
   "execution_count": null,
   "id": "81dc8f25",
   "metadata": {},
   "outputs": [],
   "source": [
    "region = (\n",
    "    flow\n",
    "    .find('text:contains(\"Table one\")')\n",
    "    .below(\n",
    "        until='text:contains(\"Table two\")',\n",
    "        include_endpoint=False\n",
    "    )\n",
    ")\n",
    "region.show()"
   ]
  },
  {
   "cell_type": "markdown",
   "id": "677ea3d6-85ad-40bd-bd5d-db36b8db2f88",
   "metadata": {},
   "source": [
    "It works for text, it works for tables, it works for **anything**. Let's see how we can get both tables on the page.\n",
    "\n",
    "First we find the bold headers – we need to say `width > 10` because otherwise it pulls some weird tiny empty boxes."
   ]
  },
  {
   "cell_type": "code",
   "execution_count": null,
   "id": "2ec5da5a",
   "metadata": {},
   "outputs": [],
   "source": [
    "(\n",
    "    flow\n",
    "    .find_all('text[width>10]:bold')\n",
    "    .show()\n",
    ")"
   ]
  },
  {
   "cell_type": "markdown",
   "id": "08fabb6a-c38a-4189-a903-96571c4d8b85",
   "metadata": {},
   "source": [
    "Then we take each of those headers, and go down down down until we either hit another bold header *or* the \"Here is a bit more text\" text. "
   ]
  },
  {
   "cell_type": "code",
   "execution_count": null,
   "id": "ebbff17c",
   "metadata": {},
   "outputs": [],
   "source": [
    "regions = (\n",
    "    flow\n",
    "    .find_all('text[width>10]:bold')\n",
    "    .below(\n",
    "        until='text[width>10]:bold|text:contains(\"Here is a bit\")',\n",
    "        include_endpoint=False\n",
    "    )\n",
    ")\n",
    "regions.show()\n"
   ]
  },
  {
   "cell_type": "markdown",
   "id": "3bc4102f-9aad-4ad3-ba49-25fa8ad022e2",
   "metadata": {},
   "source": [
    "Now we can use `.extract_table()` on *each individual region* to give us a bunch of tables."
   ]
  },
  {
   "cell_type": "code",
   "execution_count": null,
   "id": "4e1eab15",
   "metadata": {},
   "outputs": [],
   "source": [
    "tables = regions.apply(lambda col: col.extract_table())\n",
    "\n",
    "second_table = tables[1]\n",
    "\n",
    "columns = second_table[0]\n",
    "rows = second_table[1:]\n",
    "\n",
    "import pandas as pd\n",
    "\n",
    "df = pd.DataFrame(rows, columns=columns)\n",
    "df"
   ]
  },
  {
   "cell_type": "markdown",
   "id": "28743eaa-7bcb-4a6c-bc9a-6b8e2af931e3",
   "metadata": {},
   "source": [
    "# Layout analysis and magic table extraction\n",
    "\n",
    "Similar to how we have feelings about what things are on a page - headers, tables, graphics – computers also have opinions! Just like some AI models have been trained to do things like identify pictures of cats and dogs or spell check, others are capable of **layout analysis** - [YOLO](https://huggingface.co/spaces/omoured/YOLOv11-Document-Layout-Analysis), [surya](https://github.com/datalab-to/surya), etc etc etc. There are a million! [TATR](https://github.com/microsoft/table-transformer) is one of the useful ones for us, it's *just for table detection*.\n",
    "\n",
    "But honestly: they're mostly trained on academic papers, so they aren't very good at the kinds of awful documents that journalists have to deal with. And with Natural PDF, you're probably selecting `text[size>12]:bold` in order to find headlines, anyway. *But* if your page has no readable text, they might be able to provide some useful information.\n",
    "\n",
    "Let's start with [YOLO](https://github.com/opendatalab/DocLayout-YOLO), the default."
   ]
  },
  {
   "cell_type": "code",
   "execution_count": null,
   "id": "4dc204a7-c065-4471-a09b-c84443c08735",
   "metadata": {},
   "outputs": [],
   "source": [
    "from natural_pdf import PDF\n",
    "\n",
    "pdf = PDF(\"https://github.com/jsoma/ire25-natural-pdf/raw/refs/heads/main/needs-ocr.pdf\")\n",
    "page = pdf.pages[0]"
   ]
  },
  {
   "cell_type": "code",
   "execution_count": null,
   "id": "850ce61b-d844-4c14-a70c-8892be65e513",
   "metadata": {},
   "outputs": [],
   "source": [
    "# default is YOLO\n",
    "page.analyze_layout()\n",
    "page.find_all('region').show(group_by='type')"
   ]
  },
  {
   "cell_type": "code",
   "execution_count": null,
   "id": "f9a34012-ade8-442c-ad11-147185370a8f",
   "metadata": {},
   "outputs": [],
   "source": [
    "page.find('table').apply_ocr()\n",
    "text = page.extract_text()\n",
    "print(text)"
   ]
  },
  {
   "cell_type": "markdown",
   "id": "99f46397-e834-40d8-ab2b-b349eb4abff4",
   "metadata": {},
   "source": [
    "### Better layout analysis with tables"
   ]
  },
  {
   "cell_type": "markdown",
   "id": "f76eee44-5283-4408-aa18-86165a0a67db",
   "metadata": {},
   "source": [
    "Let's see what **TATR** - Microsoft's table transformer – finds for us."
   ]
  },
  {
   "cell_type": "code",
   "execution_count": null,
   "id": "f716c6da-cb47-42e4-8ab0-61a1fd9a6eb3",
   "metadata": {},
   "outputs": [],
   "source": [
    "page.analyze_layout('tatr')\n",
    "page.find_all('region').show(group_by='type')"
   ]
  },
  {
   "cell_type": "markdown",
   "id": "8a272c7e-0367-4050-916d-ac4fb6ca39bd",
   "metadata": {},
   "source": [
    "There's just *so much stuff* that TATR is finding that it's all overlapping.\n",
    "\n",
    "For example, we can just look at one piece at a time."
   ]
  },
  {
   "cell_type": "code",
   "execution_count": null,
   "id": "2d76045c-c4d5-4b45-bef2-9f99393bdd4d",
   "metadata": {},
   "outputs": [],
   "source": [
    "# table-cell\n",
    "# table-row\n",
    "# table-column\n",
    "page.find_all('region[type=table-column]').show(crop=True)"
   ]
  },
  {
   "cell_type": "code",
   "execution_count": null,
   "id": "5315c914-ea6e-4da6-814f-aab11c596b66",
   "metadata": {},
   "outputs": [],
   "source": [
    "# Grab all of the columns\n",
    "cols = page.find_all('region[type=table-column]')\n",
    "\n",
    "# Take one of the columns and apply OCR to it\n",
    "cols[2].apply_ocr()\n",
    "text = cols[2].extract_text()\n",
    "print(text)"
   ]
  },
  {
   "cell_type": "code",
   "execution_count": null,
   "id": "0e3efd17-1748-40fc-aa08-44812903746c",
   "metadata": {},
   "outputs": [],
   "source": [
    "len(cols[2].find_all('text[source=ocr]'))"
   ]
  },
  {
   "cell_type": "code",
   "execution_count": null,
   "id": "c03308ee-a76d-4c2f-bbe6-ca29a0df83ec",
   "metadata": {},
   "outputs": [],
   "source": [
    "page.find('table').show()"
   ]
  },
  {
   "cell_type": "code",
   "execution_count": null,
   "id": "97a2971a-5cd3-42d3-ac09-21307607e806",
   "metadata": {},
   "outputs": [],
   "source": [
    "data = page.find('table').extract_table()\n",
    "data"
   ]
  },
  {
   "cell_type": "markdown",
   "id": "12eaec8e-ac18-4ef0-b665-855194080eb8",
   "metadata": {},
   "source": [
    "## YOLO"
   ]
  },
  {
   "cell_type": "code",
   "execution_count": null,
   "id": "6b669609-6796-466c-848a-8ba6a1810fd2",
   "metadata": {},
   "outputs": [],
   "source": [
    "page.analyze_layout()\n",
    "page.find_all('region').show(group_by=\"type\")"
   ]
  },
  {
   "cell_type": "code",
   "execution_count": null,
   "id": "38c33322-0c0e-4b0b-ab75-129c12b363e2",
   "metadata": {},
   "outputs": [],
   "source": [
    "page.find(\"region[type=table]\").apply_ocr()"
   ]
  },
  {
   "cell_type": "code",
   "execution_count": null,
   "id": "c96ec51e-cadd-4401-b180-63e17bea23da",
   "metadata": {},
   "outputs": [],
   "source": [
    "text = page.extract_text()\n",
    "print(text)"
   ]
  },
  {
   "cell_type": "code",
   "execution_count": null,
   "id": "8e4b80b1-3628-4abf-b0ad-92c89458a332",
   "metadata": {},
   "outputs": [],
   "source": [
    "#table_area.detect_lines_preview()\n",
    "page.detect_lines_preview(\n",
    "    peak_threshold_h=0.5,\n",
    "    peak_threshold_v=0.15\n",
    ")"
   ]
  },
  {
   "cell_type": "code",
   "execution_count": null,
   "id": "3692e825-4367-4fd5-a0c2-a1c495fe3a0c",
   "metadata": {},
   "outputs": [],
   "source": [
    "page.detect_lines(\n",
    "    source_label=\"manual\",\n",
    "    peak_threshold_h=0.5,\n",
    "    peak_threshold_v=0.15\n",
    ")"
   ]
  },
  {
   "cell_type": "code",
   "execution_count": null,
   "id": "7eab81fa-48d4-4c61-a4eb-7cfc960b975e",
   "metadata": {},
   "outputs": [],
   "source": [
    "page.find_all('text, line').show(group_by='orientation')"
   ]
  },
  {
   "cell_type": "code",
   "execution_count": null,
   "id": "2bdead7b-ca9b-4a66-89af-11cf24d6cafa",
   "metadata": {},
   "outputs": [],
   "source": [
    "page.detect_table_structure_from_lines(\n",
    "    source_label=\"manual\",\n",
    ")\n",
    "data = page.extract_table()\n",
    "data"
   ]
  },
  {
   "cell_type": "code",
   "execution_count": null,
   "id": "2fe58b06-fe99-4b06-9b71-953e913656f7",
   "metadata": {},
   "outputs": [],
   "source": [
    "import pandas as pd\n",
    "\n",
    "columns = data[2]\n",
    "rows = data[3:]\n",
    "pd.DataFrame(data[3:], columns=columns)"
   ]
  },
  {
   "cell_type": "code",
   "execution_count": null,
   "id": "b8aebabf-e0b8-40dd-a067-80b43c7cca46",
   "metadata": {},
   "outputs": [],
   "source": []
  }
 ],
 "metadata": {
  "kernelspec": {
   "display_name": "Python (natural-pdf project venv)",
   "language": "python",
   "name": "natural-pdf-project-venv"
  },
  "language_info": {
   "codemirror_mode": {
    "name": "ipython",
    "version": 3
   },
   "file_extension": ".py",
   "mimetype": "text/x-python",
   "name": "python",
   "nbconvert_exporter": "python",
   "pygments_lexer": "ipython3",
   "version": "3.11.11"
  }
 },
 "nbformat": 4,
 "nbformat_minor": 5
}
