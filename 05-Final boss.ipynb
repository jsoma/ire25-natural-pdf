{
 "cells": [
  {
   "cell_type": "code",
   "execution_count": null,
   "id": "94c29060",
   "metadata": {},
   "outputs": [],
   "source": [
    "!pip install --upgrade --quiet \"natural-pdf[all]\""
   ]
  },
  {
   "cell_type": "code",
   "execution_count": null,
   "id": "53aca1e6",
   "metadata": {},
   "outputs": [],
   "source": [
    "from natural_pdf import PDF\n",
    "\n",
    "pdf = PDF(\"https://github.com/jsoma/ire25-natural-pdf/raw/refs/heads/main/Atlanta_Public_Schools_GA_sample.pdf\")\n",
    "pdf"
   ]
  },
  {
   "cell_type": "code",
   "execution_count": null,
   "id": "c174866a",
   "metadata": {},
   "outputs": [],
   "source": [
    "page = pdf.pages[0]\n",
    "page.show()"
   ]
  },
  {
   "cell_type": "markdown",
   "id": "7bc19dfd-e5fc-416d-ab44-b68cf178e77d",
   "metadata": {},
   "source": [
    "We'll add two **exclusion zones** because we aren't interested in the top and bottom of the pages."
   ]
  },
  {
   "cell_type": "code",
   "execution_count": null,
   "id": "98a8a417",
   "metadata": {},
   "outputs": [],
   "source": [
    "pdf.add_exclusion(lambda page: page.find('line[width>=2]').above())\n",
    "pdf.add_exclusion(lambda page: page.find_all('line')[-1].below())"
   ]
  },
  {
   "cell_type": "code",
   "execution_count": null,
   "id": "b12d9634",
   "metadata": {},
   "outputs": [],
   "source": [
    "page.find_all('text').inspect()"
   ]
  },
  {
   "cell_type": "code",
   "execution_count": null,
   "id": "afad6b3f",
   "metadata": {},
   "outputs": [],
   "source": [
    "titles = page.find_all('text[font_variant=AAAAAB][size=10]')\n",
    "titles.show()"
   ]
  },
  {
   "cell_type": "code",
   "execution_count": null,
   "id": "23463d53",
   "metadata": {},
   "outputs": [],
   "source": [
    "books = titles.below(until='text[font_variant=AAAAAB][size=10]',\n",
    "                     include_endpoint=False,\n",
    "                     include_source=True)\n",
    "books.show()"
   ]
  },
  {
   "cell_type": "code",
   "execution_count": null,
   "id": "d16d726b",
   "metadata": {},
   "outputs": [],
   "source": [
    "books.find('text:contains(Site)').below().clip(books).find_all('text[x0<47][size=10]')"
   ]
  },
  {
   "cell_type": "code",
   "execution_count": null,
   "id": "84a35144",
   "metadata": {},
   "outputs": [],
   "source": [
    "import pandas as pd\n",
    "\n",
    "df = pd.DataFrame({\n",
    "    'author': books.find('text:contains(Author)').extract_each_text(),\n",
    "    'isbn': books.find('text:contains(ISBN)').extract_each_text(),\n",
    "    'published': books.find('text:contains(Published)').extract_each_text(),\n",
    "    'site': books.find('text:contains(Site)').below().clip(books).apply(lambda area: area.find_all('text[x0<47][size=10]').extract_text()),\n",
    "    'barcode': books.find('text:contains(Barcode)').below(width='element', height=12).expand(right=50).extract_each_text(),\n",
    "    'price': books.find('text:contains(Price)').below(width='element', height=12).expand(right=50).extract_each_text(),\n",
    "    'acquired': books.find('text:contains(Acquired)').below(width='element', height=12).expand(right=10).extract_each_text(),\n",
    "    'removed_by': books.find('text:contains(Removed By)').below(width='element', height=12).expand(right=40).extract_each_text(),\n",
    "    'date': books.above().find('text[size>10]').extract_each_text()\n",
    "})\n",
    "df"
   ]
  },
  {
   "cell_type": "code",
   "execution_count": null,
   "id": "38ac59d1",
   "metadata": {},
   "outputs": [],
   "source": [
    "#page.find_all('text[size>10]').show()\n",
    "sections = page.get_sections('text[size>10]')\n",
    "\n",
    "sections[0].show()"
   ]
  },
  {
   "cell_type": "code",
   "execution_count": null,
   "id": "b8aebabf-e0b8-40dd-a067-80b43c7cca46",
   "metadata": {},
   "outputs": [],
   "source": []
  }
 ],
 "metadata": {
  "kernelspec": {
   "display_name": "Python (natural-pdf project venv)",
   "language": "python",
   "name": "natural-pdf-project-venv"
  },
  "language_info": {
   "codemirror_mode": {
    "name": "ipython",
    "version": 3
   },
   "file_extension": ".py",
   "mimetype": "text/x-python",
   "name": "python",
   "nbconvert_exporter": "python",
   "pygments_lexer": "ipython3",
   "version": "3.11.11"
  }
 },
 "nbformat": 4,
 "nbformat_minor": 5
}
